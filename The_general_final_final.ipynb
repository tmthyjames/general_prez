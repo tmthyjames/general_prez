{
 "cells": [
  {
   "cell_type": "markdown",
   "metadata": {},
   "source": [
    "# The Problem - Autonomous Cars have Negative Impact on Auto Insurance Industry"
   ]
  },
  {
   "cell_type": "markdown",
   "metadata": {},
   "source": [
    "<img src=\"http://static3.businessinsider.com/image/58b0abb601fe58ae018b6958-1200\"</img>"
   ]
  },
  {
   "cell_type": "markdown",
   "metadata": {},
   "source": [
    "## As Humans begin to take a backseat to driving, who's at fault?"
   ]
  },
  {
   "cell_type": "markdown",
   "metadata": {},
   "source": [
    "<img src=\"http://static6.businessinsider.com/image/58b0ad8f01fe58ae018b6963-1200/bi-graphicsautonomous-cars.png\"></img>"
   ]
  },
  {
   "cell_type": "markdown",
   "metadata": {},
   "source": [
    "## Human error is playing less of a role"
   ]
  },
  {
   "cell_type": "markdown",
   "metadata": {},
   "source": [
    "<img src=\"http://static1.businessinsider.com/image/588105ffee14b68f7b8b5e51-800/screen%20shot%202017-01-19%20at%2013054%20pm.png\"></img>"
   ]
  },
  {
   "cell_type": "markdown",
   "metadata": {},
   "source": [
    "## Is Coffee the Answer?\n",
    "\n",
    "<img src=\"http://images.techhive.com/images/article/2017/02/intel_coffee_lake_figurative_image-100708700-orig.jpg\"></img>"
   ]
  },
  {
   "cell_type": "markdown",
   "metadata": {},
   "source": [
    "## It Turns out, There's Plenty of Low-Hanging Fruit"
   ]
  },
  {
   "cell_type": "markdown",
   "metadata": {},
   "source": [
    "<img src=\"http://i.imgur.com/a6Y8E8m.jpg\"></img>"
   ]
  },
  {
   "cell_type": "markdown",
   "metadata": {},
   "source": [
    "## So How do we Compete Against Starbucks?\n",
    "\n",
    "### • Which zip codes are great for coffee shops?\n",
    "\n",
    "### • Which zip codes are saturated by Starbucks stores? \n",
    "\n",
    "### • Which zip codes have room for competition?"
   ]
  },
  {
   "cell_type": "markdown",
   "metadata": {},
   "source": [
    "## Which Zip Codes are Great for Coffee Shops?\n",
    "\n",
    "### • First we must determine which characteristics are best for coffee shops (using data on Starbucks locations)."
   ]
  },
  {
   "cell_type": "markdown",
   "metadata": {},
   "source": [
    "## Correlation Matrix\n",
    "\n",
    "<img src=\"https://github.com/tmthyjames/general_prez/blob/master/web_graphs/images/corr_matrix.png?raw=true\"></img>"
   ]
  },
  {
   "cell_type": "markdown",
   "metadata": {},
   "source": [
    "## Variables of Interest\n",
    "\n",
    "### 1) Percent of citizens with high school diploma but no degree\n",
    "\n",
    "### 2) Percent of citizens with bachelor's degree or higher\n",
    "\n",
    "### 3) Population Density\n",
    "\n",
    "### 4) Number of new homes\n",
    "\n",
    "### 5) Number of hotels"
   ]
  },
  {
   "cell_type": "markdown",
   "metadata": {},
   "source": [
    "## High School Diploma, College Degree\n",
    "\n",
    "<img src=\"https://github.com/tmthyjames/general_prez/blob/master/web_graphs/images/high_school.png?raw=true\"></img>\n",
    "\n",
    "<img src=\"https://github.com/tmthyjames/general_prez/blob/master/web_graphs/images/ba_degree.png?raw=true\"></img>"
   ]
  },
  {
   "cell_type": "markdown",
   "metadata": {},
   "source": [
    "## New Homes, Hotels\n",
    "\n",
    "<img src=\"https://github.com/tmthyjames/general_prez/blob/master/web_graphs/images/new_homes.png?raw=true\"></img>\n",
    "\n",
    "<img src=\"https://github.com/tmthyjames/general_prez/blob/master/web_graphs/images/hotels_box.png?raw=true\"></img>"
   ]
  },
  {
   "cell_type": "markdown",
   "metadata": {},
   "source": [
    "## Regressions\n",
    "\n",
    "### • Multiple Linear Regression\n",
    "\n",
    "### • Quantile Regression (more on this later)\n",
    "\n",
    "### • Logistic Regression"
   ]
  },
  {
   "cell_type": "markdown",
   "metadata": {},
   "source": [
    "## Multiple Linear Regression, to Determine What is Significant (highlight)\n",
    "\n",
    "<table class=\"simpletable\"><caption>OLS Regression Results</caption><tr>  <th>Dep. Variable:</th>     <td>starbucks_count</td> <th>  R-squared:         </th> <td>   0.596</td> </tr><tr>  <th>Model:</th>                   <td>OLS</td>       <th>  Adj. R-squared:    </th> <td>   0.593</td> </tr><tr>  <th>Method:</th>             <td>Least Squares</td>  <th>  F-statistic:       </th> <td>   216.5</td> </tr><tr>  <th>Date:</th>             <td>Mon, 10 Apr 2017</td> <th>  Prob (F-statistic):</th> <td>4.43e-114</td></tr><tr>  <th>Time:</th>                 <td>13:35:20</td>     <th>  Log-Likelihood:    </th> <td> -571.71</td> </tr><tr>  <th>No. Observations:</th>      <td>   593</td>      <th>  AIC:               </th> <td>   1153.</td> </tr><tr>  <th>Df Residuals:</th>          <td>   588</td>      <th>  BIC:               </th> <td>   1175.</td> </tr><tr>  <th>Df Model:</th>              <td>     4</td>      <th>                     </th>     <td> </td>    </tr><tr>  <th>Covariance Type:</th>      <td>nonrobust</td>    <th>                     </th>     <td> </td>    </tr></table><table class=\"simpletable\"><tr>           <td></td>             <th>coef</th>     <th>std err</th>      <th>t</th>      <th>P>|t|</th> <th>[95.0% Conf. Int.]</th> </tr><tr>  <th>Intercept</th>          <td>    0.3586</td> <td>    0.118</td> <td>    3.045</td> <td> 0.002</td> <td>    0.127     0.590</td></tr><tr>  <th>new_homes</th>          <td>    0.0104</td> <td>    0.003</td> <td>    3.199</td> <td> 0.001</td> <td>    0.004     0.017</td></tr><tr>  <th>hotels</th>             <td>    0.0286</td> <td>    0.002</td> <td>   14.282</td> <td> 0.000</td> <td>    0.025     0.033</td></tr><tr>  <th>HC03_VC88</th>          <td>   -0.0107</td> <td>    0.003</td> <td>   -3.898</td> <td> 0.000</td> <td>   -0.016    -0.005</td></tr><tr>  <th>population_density</th> <td> 1.481e-05</td> <td> 1.42e-05</td> <td>    1.044</td> <td> 0.297</td> <td>-1.31e-05  4.27e-05</td></tr></table><table class=\"simpletable\"><tr>  <th>Omnibus:</th>       <td>112.934</td> <th>  Durbin-Watson:     </th> <td>   0.837</td> </tr><tr>  <th>Prob(Omnibus):</th> <td> 0.000</td>  <th>  Jarque-Bera (JB):  </th> <td> 633.021</td> </tr><tr>  <th>Skew:</th>          <td> 0.706</td>  <th>  Prob(JB):          </th> <td>3.48e-138</td></tr><tr>  <th>Kurtosis:</th>      <td> 7.860</td>  <th>  Cond. No.          </th> <td>9.88e+03</td> </tr></table>"
   ]
  },
  {
   "cell_type": "markdown",
   "metadata": {},
   "source": [
    "## Logistic Regression\n",
    "\n",
    "<table class=\"simpletable\">\n",
    "<caption>Generalized Linear Model Regression Results</caption>\n",
    "<tr>\n",
    "  <th>Dep. Variable:</th>    <td>has_starbucks</td>  <th>  No. Observations:  </th>  <td> 32512</td> \n",
    "</tr>\n",
    "<tr>\n",
    "  <th>Model:</th>                 <td>GLM</td>       <th>  Df Residuals:      </th>  <td> 32510</td> \n",
    "</tr>\n",
    "<tr>\n",
    "  <th>Model Family:</th>       <td>Binomial</td>     <th>  Df Model:          </th>  <td>     1</td> \n",
    "</tr>\n",
    "<tr>\n",
    "  <th>Link Function:</th>        <td>logit</td>      <th>  Scale:             </th>    <td>1.0</td>  \n",
    "</tr>\n",
    "<tr>\n",
    "  <th>Method:</th>               <td>IRLS</td>       <th>  Log-Likelihood:    </th> <td> -12333.</td>\n",
    "</tr>\n",
    "<tr>\n",
    "  <th>Date:</th>           <td>Mon, 10 Apr 2017</td> <th>  Deviance:          </th> <td>  24666.</td>\n",
    "</tr>\n",
    "<tr>\n",
    "  <th>Time:</th>               <td>13:50:06</td>     <th>  Pearson chi2:      </th> <td>3.01e+04</td>\n",
    "</tr>\n",
    "<tr>\n",
    "  <th>No. Iterations:</th>         <td>7</td>        <th>                     </th>     <td> </td>   \n",
    "</tr>\n",
    "</table>\n",
    "<table class=\"simpletable\">\n",
    "<tr>\n",
    "      <td></td>         <th>coef</th>     <th>std err</th>      <th>z</th>      <th>P>|z|</th> <th>[95.0% Conf. Int.]</th> \n",
    "</tr>\n",
    "<tr>\n",
    "  <th>const</th>     <td>   -3.2080</td> <td>    0.033</td> <td>  -98.027</td> <td> 0.000</td> <td>   -3.272    -3.144</td>\n",
    "</tr>\n",
    "<tr>\n",
    "  <th>HC03_VC96</th> <td>    0.0588</td> <td>    0.001</td> <td>   62.877</td> <td> 0.000</td> <td>    0.057     0.061</td>\n",
    "</tr>\n",
    "</table>\n",
    "\n",
    "<img src=\"https://github.com/tmthyjames/general_prez/blob/master/web_graphs/images/roc.png?raw=true\"></img>"
   ]
  },
  {
   "cell_type": "markdown",
   "metadata": {},
   "source": [
    "## Nashville is a Microcosm of Nation's Coffee Patterns\n",
    "\n",
    "### • More educated areas\n",
    "\n",
    "### • Areas with more people (New Homes and Hotels)"
   ]
  },
  {
   "cell_type": "markdown",
   "metadata": {},
   "source": [
    "## Education\n",
    "\n",
    "<img src=\"https://github.com/tmthyjames/general_prez/blob/master/web_graphs/images/education.png?raw=true\"></img>"
   ]
  },
  {
   "cell_type": "markdown",
   "metadata": {},
   "source": [
    "## More People (New Homes, Hotels)\n",
    "\n",
    "<img src=\"https://github.com/tmthyjames/general_prez/blob/master/web_graphs/images/hotels.png?raw=true\"></img>"
   ]
  },
  {
   "cell_type": "markdown",
   "metadata": {},
   "source": [
    "## Nashville is a Microcosm of Nation's Coffee Patterns\n",
    "\n",
    "<img src=\"https://github.com/tmthyjames/general_prez/blob/master/web_graphs/images/tn.png?raw=true\"></img>"
   ]
  },
  {
   "cell_type": "markdown",
   "metadata": {},
   "source": [
    "## Top 5 Opportunities\n",
    "\n",
    "### 37604 - Johnson City, TN; No Starbucks Presence\n",
    "\n",
    "<img src=\"\"></img>\n",
    "\n",
    "### 37072 - Goodlettsville, TN; No Starbucks Presence\n",
    "\n",
    "<img src=\"\"></img>\n",
    "\n",
    "### 38401 - Columbia, TN; No Starbucks Presence\n",
    "\n",
    "<img src=\"\"></img>\n",
    "\n",
    "### 38002 - Arlington, TN; No Starbucks Presence\n",
    "\n",
    "<img src=\"\"></img>\n",
    "\n",
    "### 37128 - Murfreesboro, TN; No Starbucks Presence\n",
    "\n",
    "<img src=\"\"></img>"
   ]
  },
  {
   "cell_type": "code",
   "execution_count": null,
   "metadata": {
    "collapsed": true
   },
   "outputs": [],
   "source": []
  },
  {
   "cell_type": "code",
   "execution_count": null,
   "metadata": {
    "collapsed": true
   },
   "outputs": [],
   "source": []
  },
  {
   "cell_type": "code",
   "execution_count": null,
   "metadata": {
    "collapsed": true
   },
   "outputs": [],
   "source": []
  },
  {
   "cell_type": "code",
   "execution_count": null,
   "metadata": {
    "collapsed": true
   },
   "outputs": [],
   "source": []
  },
  {
   "cell_type": "markdown",
   "metadata": {},
   "source": [
    "## Quantile Regression (highlight)\n",
    "\n",
    "<table class=\"simpletable\"><caption>QuantReg Regression Results</caption><tr>  <th>Dep. Variable:</th>  <td>starbucks_count</td> <th>  Pseudo R-squared:  </th> <td>  0.6996</td></tr><tr>  <th>Model:</th>             <td>QuantReg</td>     <th>  Bandwidth:         </th> <td>  0.2649</td></tr><tr>  <th>Method:</th>          <td>Least Squares</td>  <th>  Sparsity:          </th> <td>  0.6736</td></tr><tr>  <th>Date:</th>          <td>Mon, 10 Apr 2017</td> <th>  No. Observations:  </th>  <td>   593</td> </tr><tr>  <th>Time:</th>              <td>13:43:15</td>     <th>  Df Residuals:      </th>  <td>   588</td> </tr><tr>  <th> </th>                      <td> </td>        <th>  Df Model:          </th>  <td>     4</td> </tr></table><table class=\"simpletable\"><tr>           <td></td>             <th>coef</th>     <th>std err</th>      <th>t</th>      <th>P>|t|</th> <th>[95.0% Conf. Int.]</th> </tr><tr>  <th>Intercept</th>          <td>-2.429e-07</td> <td>    0.055</td> <td> -4.4e-06</td> <td> 1.000</td> <td>   -0.108     0.108</td></tr><tr>  <th>new_homes</th>          <td>   -0.0008</td> <td>    0.001</td> <td>   -0.787</td> <td> 0.432</td> <td>   -0.003     0.001</td></tr><tr>  <th>hotels</th>             <td>    0.0699</td> <td>    0.001</td> <td>   98.646</td> <td> 0.000</td> <td>    0.068     0.071</td></tr><tr>  <th>HC03_VC88</th>          <td>-5.823e-05</td> <td>    0.001</td> <td>   -0.045</td> <td> 0.964</td> <td>   -0.003     0.003</td></tr><tr>  <th>population_density</th> <td>    0.0002</td> <td> 3.47e-06</td> <td>   46.775</td> <td> 0.000</td> <td>    0.000     0.000</td></tr></table>"
   ]
  },
  {
   "cell_type": "code",
   "execution_count": null,
   "metadata": {
    "collapsed": true
   },
   "outputs": [],
   "source": []
  },
  {
   "cell_type": "code",
   "execution_count": null,
   "metadata": {
    "collapsed": true
   },
   "outputs": [],
   "source": []
  },
  {
   "cell_type": "code",
   "execution_count": null,
   "metadata": {
    "collapsed": true
   },
   "outputs": [],
   "source": []
  },
  {
   "cell_type": "code",
   "execution_count": null,
   "metadata": {
    "collapsed": true
   },
   "outputs": [],
   "source": []
  },
  {
   "cell_type": "code",
   "execution_count": null,
   "metadata": {
    "collapsed": true
   },
   "outputs": [],
   "source": []
  }
 ],
 "metadata": {
  "kernelspec": {
   "display_name": "Python 2",
   "language": "python",
   "name": "python2"
  },
  "language_info": {
   "codemirror_mode": {
    "name": "ipython",
    "version": 2
   },
   "file_extension": ".py",
   "mimetype": "text/x-python",
   "name": "python",
   "nbconvert_exporter": "python",
   "pygments_lexer": "ipython2",
   "version": "2.7.10"
  }
 },
 "nbformat": 4,
 "nbformat_minor": 2
}
